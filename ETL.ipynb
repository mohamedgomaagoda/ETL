{
  "nbformat": 4,
  "nbformat_minor": 0,
  "metadata": {
    "colab": {
      "provenance": [],
      "authorship_tag": "ABX9TyN7/+CFO/KbYK9MmTi2emTu",
      "include_colab_link": true
    },
    "kernelspec": {
      "name": "python3",
      "display_name": "Python 3"
    },
    "language_info": {
      "name": "python"
    }
  },
  "cells": [
    {
      "cell_type": "markdown",
      "metadata": {
        "id": "view-in-github",
        "colab_type": "text"
      },
      "source": [
        "<a href=\"https://colab.research.google.com/github/mohamedgomaagoda/ETL/blob/main/ETL.ipynb\" target=\"_parent\"><img src=\"https://colab.research.google.com/assets/colab-badge.svg\" alt=\"Open In Colab\"/></a>"
      ]
    },
    {
      "cell_type": "code",
      "source": [
        "!pip install icecream"
      ],
      "metadata": {
        "colab": {
          "base_uri": "https://localhost:8080/"
        },
        "id": "_caxUjDRBiqy",
        "outputId": "dda62a8e-4b6c-4cb5-dfb7-0bc9b01d4284"
      },
      "execution_count": null,
      "outputs": [
        {
          "output_type": "stream",
          "name": "stdout",
          "text": [
            "Collecting icecream\n",
            "  Downloading icecream-2.1.3-py2.py3-none-any.whl (8.4 kB)\n",
            "Collecting colorama>=0.3.9 (from icecream)\n",
            "  Downloading colorama-0.4.6-py2.py3-none-any.whl (25 kB)\n",
            "Requirement already satisfied: pygments>=2.2.0 in /usr/local/lib/python3.10/dist-packages (from icecream) (2.16.1)\n",
            "Collecting executing>=0.3.1 (from icecream)\n",
            "  Downloading executing-2.0.1-py2.py3-none-any.whl (24 kB)\n",
            "Collecting asttokens>=2.0.1 (from icecream)\n",
            "  Downloading asttokens-2.4.1-py2.py3-none-any.whl (27 kB)\n",
            "Requirement already satisfied: six>=1.12.0 in /usr/local/lib/python3.10/dist-packages (from asttokens>=2.0.1->icecream) (1.16.0)\n",
            "Installing collected packages: executing, colorama, asttokens, icecream\n",
            "Successfully installed asttokens-2.4.1 colorama-0.4.6 executing-2.0.1 icecream-2.1.3\n"
          ]
        }
      ]
    },
    {
      "cell_type": "code",
      "execution_count": null,
      "metadata": {
        "id": "fXIm9ZygjOjt",
        "colab": {
          "base_uri": "https://localhost:8080/",
          "height": 108
        },
        "outputId": "f5221ce1-588d-490b-8aa7-dfdb4015ee30"
      },
  
      ],
      "source": [
        "from io import StringIO\n",
        "import requests\n",
        "from bs4 import BeautifulSoup\n",
        "import pandas as pd\n",
        "import sqlite3\n",
        "from datetime import datetime\n",
        "from icecream import ic\n",
        "\n",
        "\n",
        "def log_progress(message):\n",
        "    \"\"\"This function logs the mentioned message of a given stage of the\n",
        "    code execution to a log file. Function returns nothing\"\"\"\n",
        "\n",
        "    with open('code_log.txt', 'a') as f:\n",
        "        f.write(f'{datetime.now()}: {message}\\n')\n",
        "\n",
        "\n",
        "def extract(url, table_attribs):\n",
        "    \"\"\" This function aims to extract the required\n",
        "    information from the website and save it to a data frame. The\n",
        "    function returns the data frame for further processing. \"\"\"\n",
        "\n",
        "    soup = BeautifulSoup(requests.get(url).text, 'html.parser')\n",
        "    table = soup.find('span', string=table_attribs).find_next('table')\n",
        "    df = pd.read_html(StringIO(str(table)))[0]\n",
        "\n",
        "    log_progress('Data extraction complete. Initiating Transformation process')\n",
        "\n",
        "    return df\n",
        "\n",
        "\n",
        "def transform(df, csv_path):\n",
        "    \"\"\" This function accesses the CSV file for exchange rate\n",
        "    information, and adds three columns to the data frame, each\n",
        "    containing the transformed version of Market Cap column to\n",
        "    respective currencies\"\"\"\n",
        "\n",
        "    exchange_rate = pd.read_csv(\"C:\\Users\\ALMOHAMDY\\Downloads\\exchange_rate.csv\", index_col=0).to_dict()['Rate']\n",
        "    df['MC_GBP_Billion'] = round(df['Market cap (US$ billion)'] * exchange_rate['GBP'], 2)\n",
        "    df['MC_EUR_Billion'] = round(df['Market cap (US$ billion)'] * exchange_rate['EUR'], 2)\n",
        "    df['MC_INR_Billion'] = round(df['Market cap (US$ billion)'] * exchange_rate['INR'], 2)\n",
        "\n",
        "    ic(df['MC_EUR_Billion'][4])\n",
        "\n",
        "    log_progress('Data transformation complete. Initiating Loading process')\n",
        "\n",
        "    return df\n",
        "\n",
        "\n",
        "def load_to_csv(df, output_path):\n",
        "    \"\"\" This function saves the final data frame as a CSV file in\n",
        "    the provided path. Function returns nothing.\"\"\"\n",
        "\n",
        "    df.to_csv(output_path)\n",
        "\n",
        "    log_progress('Data saved to CSV file')\n",
        "\n",
        "\n",
        "def load_to_db(df, sql_connection, table_name):\n",
        "    \"\"\" This function saves the final data frame to a database\n",
        "    table with the provided name. Function returns nothing.\"\"\"\n",
        "\n",
        "    df.to_sql(table_name, sql_connection, if_exists='replace', index=False)\n",
        "\n",
        "    log_progress('Data loaded to Database as a table, Executing queries')\n",
        "\n",
        "\n",
        "def run_query(query_statement, sql_connection):\n",
        "    \"\"\" This function runs the query on the database table and\n",
        "    prints the output on the terminal. Function returns nothing. \"\"\"\n",
        "\n",
        "    cursor = sql_connection.cursor()\n",
        "    cursor.execute(query_statement)\n",
        "    result = cursor.fetchall()\n",
        "    # for row in result:\n",
        "    #     ic(row)\n",
        "\n",
        "    log_progress('Process Complete')\n",
        "\n",
        "    return result\n",
        "\n",
        "\n",
        "if __name__ == '__main__':\n",
        "    url = 'https://web.archive.org/web/20230908091635/https://en.wikipedia.org/wiki/List_of_largest_banks'\n",
        "    output_csv_path = './Largest_banks_data.csv'\n",
        "    database_name = 'Banks.db'\n",
        "    table_name = 'Largest_banks'\n",
        "    #\n",
        "    log_progress('Preliminaries complete. Initiating ETL process')\n",
        "    #\n",
        "\n",
        "    df = ic(extract(url, 'By market capitalization'))\n",
        "\n",
        "    transform(df, 'exchange_rate.csv')\n",
        "\n",
        "    load_to_csv(df, output_csv_path)\n",
        "\n",
        "    with sqlite3.connect(database_name) as conn:\n",
        "        load_to_db(df, conn, table_name)\n",
        "\n",
        "        ic(run_query('SELECT * FROM Largest_banks', conn))\n",
        "\n",
        "        ic(run_query('SELECT AVG(MC_GBP_Billion) FROM Largest_banks', conn))\n",
        "\n",
        "        ic(run_query('SELECT \"Bank name\" FROM Largest_banks LIMIT 5', conn))\n"
      ]
    },
    {
      "cell_type": "code",
      "source": [
        "def log_progress(message):\n",
        "    \"\"\"This function logs the mentioned message of a given stage of the\n",
        "    code execution to a log file. Function returns nothing\"\"\"\n",
        "\n",
        "    with open('code_log.txt', 'a') as f:\n",
        "        f.write(f'{datetime.now()}: {message}\\n')\n"
      ],
      "metadata": {
        "id": "IfFtj4QiAauJ"
      },
      "execution_count": null,
      "outputs": []
    },
    {
      "cell_type": "code",
      "source": [
        "def extract(url, table_attribs):\n",
        "    \"\"\" This function aims to extract the required\n",
        "    information from the website and save it to a data frame. The\n",
        "    function returns the data frame for further processing. \"\"\"\n",
        "\n",
        "    soup = BeautifulSoup(requests.get(url).text, 'html.parser')\n",
        "    table = soup.find('span', string=table_attribs).find_next('table')\n",
        "    df = pd.read_html(StringIO(str(table)))[0]\n",
        "\n",
        "    log_progress('Data extraction complete. Initiating Transformation process')\n",
        "\n",
        "    return df"
      ],
      "metadata": {
        "id": "GmuObHpAAmd1"
      },
      "execution_count": null,
      "outputs": []
    },
    {
      "cell_type": "code",
      "source": [
        "def transform(df, csv_path):\n",
        "    \"\"\" This function accesses the CSV file for exchange rate\n",
        "    information, and adds three columns to the data frame, each\n",
        "    containing the transformed version of Market Cap column to\n",
        "    respective currencies\"\"\"\n",
        "\n",
        "    exchange_rate = pd.read_csv(csv_path, index_col=0).to_dict()['Rate']\n",
        "\n",
        "    df['MC_GBP_Billion'] = round(df['Market cap (US$ billion)'] * exchange_rate['GBP'], 2)\n",
        "    df['MC_EUR_Billion'] = round(df['Market cap (US$ billion)'] * exchange_rate['EUR'], 2)\n",
        "    df['MC_INR_Billion'] = round(df['Market cap (US$ billion)'] * exchange_rate['INR'], 2)\n",
        "\n",
        "    ic(df['MC_EUR_Billion'][4])\n",
        "\n",
        "    log_progress('Data transformation complete. Initiating Loading process')\n",
        "\n",
        "    return df\n"
      ],
      "metadata": {
        "id": "jQe0shxGAs3F"
      },
      "execution_count": null,
      "outputs": []
    },
    {
      "cell_type": "code",
      "source": [
        "def load_to_csv(df, output_path):\n",
        "    \"\"\" This function saves the final data frame as a CSV file in\n",
        "    the provided path. Function returns nothing.\"\"\"\n",
        "\n",
        "    df.to_csv(output_path)\n",
        "\n",
        "    log_progress('Data saved to CSV file')"
      ],
      "metadata": {
        "id": "V3NTHE7dAzx2"
      },
      "execution_count": null,
      "outputs": []
    },
    {
      "cell_type": "code",
      "source": [
        "\n",
        "def load_to_db(df, sql_connection, table_name):\n",
        "    \"\"\" This function saves the final data frame to a database\n",
        "    table with the provided name. Function returns nothing.\"\"\"\n",
        "\n",
        "    df.to_sql(table_name, sql_connection, if_exists='replace', index=False)\n",
        "\n",
        "    log_progress('Data loaded to Database as a table, Executing queries')"
      ],
      "metadata": {
        "id": "Pq4dfLWrA5k6"
      },
      "execution_count": null,
      "outputs": []
    },
    {
      "cell_type": "code",
      "source": [
        "def run_query(query_statement, sql_connection):\n",
        "    \"\"\" This function runs the query on the database table and\n",
        "    prints the output on the terminal. Function returns nothing. \"\"\"\n",
        "\n",
        "    cursor = sql_connection.cursor()\n",
        "    cursor.execute(query_statement)\n",
        "    result = cursor.fetchall()\n",
        "    # for row in result:\n",
        "    #     ic(row)\n",
        "\n",
        "    log_progress('Process Complete')\n",
        "\n",
        "    print(result)"
      ],
      "metadata": {
        "id": "PiFT5lzYA-Cc"
      },
      "execution_count": null,
      "outputs": []
    },
    {
      "cell_type": "code",
      "source": [],
      "metadata": {
        "id": "ZVGAVfzvBE4J"
      },
      "execution_count": null,
      "outputs": []
    }
  ]
}
